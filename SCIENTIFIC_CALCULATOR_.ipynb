{
  "nbformat": 4,
  "nbformat_minor": 0,
  "metadata": {
    "colab": {
      "provenance": []
    },
    "kernelspec": {
      "name": "python3",
      "display_name": "Python 3"
    },
    "language_info": {
      "name": "python"
    }
  },
  "cells": [
    {
      "cell_type": "code",
      "execution_count": null,
      "metadata": {
        "id": "Sid41udVMNYJ"
      },
      "outputs": [],
      "source": [
        "import tkinter as tk\n",
        "import math\n"
      ]
    },
    {
      "cell_type": "code",
      "source": [
        "def click(val):\n",
        "    e = entry.get()\n",
        "    ans = \" \"\n",
        "\n",
        "    try:\n",
        "        if val == \"C\":\n",
        "            entry.delete(0, tk.END)\n",
        "            return\n",
        "        # More code for other button functionalities...\n",
        "    except SyntaxError:\n",
        "        pass\n"
      ],
      "metadata": {
        "id": "CQNYgMaBMjhL"
      },
      "execution_count": null,
      "outputs": []
    },
    {
      "cell_type": "code",
      "source": [
        "root = tk.Tk()\n",
        "root.title(\"Scientific Calculator\")\n",
        "root.geometry(\"680x486+100+100\")\n",
        "root.config(bg=\"black\")\n"
      ],
      "metadata": {
        "colab": {
          "base_uri": "https://localhost:8080/",
          "height": 329
        },
        "id": "bCTf40voMvhS",
        "outputId": "f6fc2127-900f-4eb9-e6bd-d9a63112e47f"
      },
      "execution_count": null,
      "outputs": [
        {
          "output_type": "error",
          "ename": "TclError",
          "evalue": "no display name and no $DISPLAY environment variable",
          "traceback": [
            "\u001b[0;31m---------------------------------------------------------------------------\u001b[0m",
            "\u001b[0;31mTclError\u001b[0m                                  Traceback (most recent call last)",
            "\u001b[0;32m<ipython-input-4-b4653e8ffffe>\u001b[0m in \u001b[0;36m<cell line: 1>\u001b[0;34m()\u001b[0m\n\u001b[0;32m----> 1\u001b[0;31m \u001b[0mroot\u001b[0m \u001b[0;34m=\u001b[0m \u001b[0mtk\u001b[0m\u001b[0;34m.\u001b[0m\u001b[0mTk\u001b[0m\u001b[0;34m(\u001b[0m\u001b[0;34m)\u001b[0m\u001b[0;34m\u001b[0m\u001b[0;34m\u001b[0m\u001b[0m\n\u001b[0m\u001b[1;32m      2\u001b[0m \u001b[0mroot\u001b[0m\u001b[0;34m.\u001b[0m\u001b[0mtitle\u001b[0m\u001b[0;34m(\u001b[0m\u001b[0;34m\"Scientific Calculator\"\u001b[0m\u001b[0;34m)\u001b[0m\u001b[0;34m\u001b[0m\u001b[0;34m\u001b[0m\u001b[0m\n\u001b[1;32m      3\u001b[0m \u001b[0mroot\u001b[0m\u001b[0;34m.\u001b[0m\u001b[0mgeometry\u001b[0m\u001b[0;34m(\u001b[0m\u001b[0;34m\"680x486+100+100\"\u001b[0m\u001b[0;34m)\u001b[0m\u001b[0;34m\u001b[0m\u001b[0;34m\u001b[0m\u001b[0m\n\u001b[1;32m      4\u001b[0m \u001b[0mroot\u001b[0m\u001b[0;34m.\u001b[0m\u001b[0mconfig\u001b[0m\u001b[0;34m(\u001b[0m\u001b[0mbg\u001b[0m\u001b[0;34m=\u001b[0m\u001b[0;34m\"black\"\u001b[0m\u001b[0;34m)\u001b[0m\u001b[0;34m\u001b[0m\u001b[0;34m\u001b[0m\u001b[0m\n",
            "\u001b[0;32m/usr/lib/python3.10/tkinter/__init__.py\u001b[0m in \u001b[0;36m__init__\u001b[0;34m(self, screenName, baseName, className, useTk, sync, use)\u001b[0m\n\u001b[1;32m   2297\u001b[0m                 \u001b[0mbaseName\u001b[0m \u001b[0;34m=\u001b[0m \u001b[0mbaseName\u001b[0m \u001b[0;34m+\u001b[0m \u001b[0mext\u001b[0m\u001b[0;34m\u001b[0m\u001b[0;34m\u001b[0m\u001b[0m\n\u001b[1;32m   2298\u001b[0m         \u001b[0minteractive\u001b[0m \u001b[0;34m=\u001b[0m \u001b[0;32mFalse\u001b[0m\u001b[0;34m\u001b[0m\u001b[0;34m\u001b[0m\u001b[0m\n\u001b[0;32m-> 2299\u001b[0;31m         \u001b[0mself\u001b[0m\u001b[0;34m.\u001b[0m\u001b[0mtk\u001b[0m \u001b[0;34m=\u001b[0m \u001b[0m_tkinter\u001b[0m\u001b[0;34m.\u001b[0m\u001b[0mcreate\u001b[0m\u001b[0;34m(\u001b[0m\u001b[0mscreenName\u001b[0m\u001b[0;34m,\u001b[0m \u001b[0mbaseName\u001b[0m\u001b[0;34m,\u001b[0m \u001b[0mclassName\u001b[0m\u001b[0;34m,\u001b[0m \u001b[0minteractive\u001b[0m\u001b[0;34m,\u001b[0m \u001b[0mwantobjects\u001b[0m\u001b[0;34m,\u001b[0m \u001b[0museTk\u001b[0m\u001b[0;34m,\u001b[0m \u001b[0msync\u001b[0m\u001b[0;34m,\u001b[0m \u001b[0muse\u001b[0m\u001b[0;34m)\u001b[0m\u001b[0;34m\u001b[0m\u001b[0;34m\u001b[0m\u001b[0m\n\u001b[0m\u001b[1;32m   2300\u001b[0m         \u001b[0;32mif\u001b[0m \u001b[0museTk\u001b[0m\u001b[0;34m:\u001b[0m\u001b[0;34m\u001b[0m\u001b[0;34m\u001b[0m\u001b[0m\n\u001b[1;32m   2301\u001b[0m             \u001b[0mself\u001b[0m\u001b[0;34m.\u001b[0m\u001b[0m_loadtk\u001b[0m\u001b[0;34m(\u001b[0m\u001b[0;34m)\u001b[0m\u001b[0;34m\u001b[0m\u001b[0;34m\u001b[0m\u001b[0m\n",
            "\u001b[0;31mTclError\u001b[0m: no display name and no $DISPLAY environment variable"
          ]
        }
      ]
    },
    {
      "cell_type": "code",
      "source": [
        "# Importing the library\n",
        "import tkinter as tk\n",
        "import math\n",
        "\n",
        "\n",
        "# To provide functionalities\n",
        "def click(val):\n",
        "    e = entry.get()  # getting the value\n",
        "    ans = \" \"\n",
        "\n",
        "    try:\n",
        "        # To clear the last inserted text\n",
        "        if val == \"C\":\n",
        "            entry.delete(0, tk.END)\n",
        "            return\n",
        "\n",
        "        # To delete everything\n",
        "        elif val == \"CE\":\n",
        "            entry.delete(0, \"end\")\n",
        "\n",
        "        # Square root\n",
        "        elif val == \"√\":\n",
        "            ans = math.sqrt(eval(e))\n",
        "\n",
        "        # pi value\n",
        "        elif val == \"π\":\n",
        "            ans = math.pi\n",
        "\n",
        "        # cos value\n",
        "        elif val == \"cosθ\":\n",
        "            ans = math.cos(math.radians(eval(e)))\n",
        "\n",
        "        # sin value\n",
        "        elif val == \"sinθ\":\n",
        "            ans = math.sin(math.radians(eval(e)))\n",
        "\n",
        "        # tan Value\n",
        "        elif val == \"tanθ\":\n",
        "            ans = math.tan(math.radians(eval(e)))\n",
        "\n",
        "        # 2π value\n",
        "        elif val == \"2π\":\n",
        "            ans = 2 * math.pi\n",
        "\n",
        "        # cosh value\n",
        "        elif val == \"cosh\":\n",
        "            ans = math.cosh(eval(e))\n",
        "\n",
        "        # sinh value\n",
        "        elif val == \"sinh\":\n",
        "            ans = math.sinh(eval(e))\n",
        "\n",
        "        # tanh value\n",
        "        elif val == \"tanh\":\n",
        "            ans = math.tanh(eval(e))\n",
        "\n",
        "        # cube root value\n",
        "        elif val == chr(8731):\n",
        "            ans = eval(e) ** (1 / 3)\n",
        "\n",
        "        # x to the power y\n",
        "        elif val == \"x\\u02b8\":\n",
        "            entry.insert(\"end\", \"**\")\n",
        "            return\n",
        "\n",
        "        # cube value\n",
        "        elif val == \"x\\u00B3\":\n",
        "            ans = eval(e) ** 3\n",
        "\n",
        "        # square value\n",
        "        elif val == \"x\\u00B2\":\n",
        "            ans = eval(e) ** 2\n",
        "\n",
        "        # ln value\n",
        "        elif val == \"ln\":\n",
        "            ans = math.log2(eval(e))\n",
        "\n",
        "        # deg value\n",
        "        elif val == \"deg\":\n",
        "            ans = math.degrees(eval(e))\n",
        "\n",
        "        # radian value\n",
        "        elif val == \"rad\":\n",
        "            ans = math.radians(eval(e))\n",
        "\n",
        "        # e value\n",
        "        elif val == \"e\":\n",
        "            ans = math.e\n",
        "\n",
        "        # log10 value\n",
        "        elif val == \"log10\":\n",
        "            ans = math.log10(eval(e))\n",
        "\n",
        "        # factorial value\n",
        "        elif val == \"x!\":\n",
        "            ans = math.factorial(eval(e))\n",
        "\n",
        "        # division operator\n",
        "        elif val == chr(247):\n",
        "            entry.insert(\"end\", \"/\")\n",
        "            return\n",
        "\n",
        "        elif val == \"=\":\n",
        "            ans = eval(e)\n",
        "\n",
        "        else:\n",
        "            entry.insert(\"end\", val)\n",
        "            return\n",
        "\n",
        "        entry.delete(0, \"end\")\n",
        "        entry.insert(0, ans)\n",
        "\n",
        "    except SyntaxError:\n",
        "        pass\n",
        "\n",
        "\n",
        "# Created the object\n",
        "root = tk.Tk()\n",
        "\n",
        "# Setting the title and geometry\n",
        "root.title(\"Scientific Calculator\")\n",
        "root.geometry(\"680x486+100+100\")\n",
        "\n",
        "# Setting the background color\n",
        "root.config(bg=\"black\")\n",
        "\n",
        "\n",
        "# Entry field\n",
        "entry = tk.Entry(root, font=(\"arial\", 20, \"bold\"), bg=\"black\", fg=\"white\", bd=10, width=30)\n",
        "entry.grid(row=0, column=0, columnspan=8)\n",
        "\n",
        "# buttons list\n",
        "button_list = [\"C\", \"CE\", \"√\", \"+\", \"π\", \"cosθ\", \"tanθ\", \"sinθ\", \"1\", \"2\", \"3\", \"-\", \"2π\", \"cosh\", \"tanh\", \"sinh\",\n",
        "               \"4\", \"5\", \"6\", \"*\", chr(8731), \"x\\u02b8\", \"x\\u00B3\", \"x\\u00B2\", \"7\", \"8\", \"9\", chr(247), \"ln\", \"deg\",\n",
        "               \"rad\", \"e\", \"0\", \".\", \"%\", \"=\", \"log10\", \"(\", \")\", \"x!\"]\n",
        "r = 1\n",
        "c = 0\n",
        "# Loop to get the buttons on window\n",
        "for i in button_list:\n",
        "    # Buttons\n",
        "    button = tk.Button(root, width=5, height=2, bd=2, text=i, bg=\"black\", fg=\"white\",\n",
        "                            font=(\"arial\", 18, \"bold\"), command=lambda button=i: click(button))\n",
        "    button.grid(row=r, column=c, pady=1)\n",
        "    c += 1\n",
        "    if c > 7:\n",
        "        r += 1\n",
        "        c = 0\n",
        "\n",
        "# Makes window on loop\n",
        "root.mainloop()"
      ],
      "metadata": {
        "colab": {
          "base_uri": "https://localhost:8080/"
        },
        "id": "5WLjdJllRZtp",
        "outputId": "435a0992-dfe0-44d8-de8e-7b51bdb91814"
      },
      "execution_count": null,
      "outputs": [
        {
          "output_type": "stream",
          "name": "stdout",
          "text": [
            "3\n",
            "6\n",
            "9\n",
            "12\n",
            "15\n",
            "18\n",
            "21\n"
          ]
        }
      ]
    }
  ]
}